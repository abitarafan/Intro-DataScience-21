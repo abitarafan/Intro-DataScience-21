{
  "nbformat": 4,
  "nbformat_minor": 0,
  "metadata": {
    "colab": {
      "name": "Untitled2.ipynb",
      "provenance": [],
      "collapsed_sections": [],
      "authorship_tag": "ABX9TyOr8/dm8EkzfO49uaz/+H50",
      "include_colab_link": true
    },
    "kernelspec": {
      "name": "python3",
      "display_name": "Python 3"
    },
    "language_info": {
      "name": "python"
    }
  },
  "cells": [
    {
      "cell_type": "markdown",
      "metadata": {
        "id": "view-in-github",
        "colab_type": "text"
      },
      "source": [
        "<a href=\"https://colab.research.google.com/github/abitarafan/Intro-DataScience-21/blob/main/RNN.ipynb\" target=\"_parent\"><img src=\"https://colab.research.google.com/assets/colab-badge.svg\" alt=\"Open In Colab\"/></a>"
      ]
    },
    {
      "cell_type": "code",
      "execution_count": 2,
      "metadata": {
        "id": "GUNY4Q7DFd9f"
      },
      "outputs": [],
      "source": [
        "from keras.models import Sequential\n",
        "from keras.layers import Dense\n",
        "from tensorflow.keras.optimizers import Adam\n",
        "import pandas as pd\n",
        "import matplotlib.pyplot as plt\n",
        "from sklearn.model_selection import train_test_split\n",
        "from sklearn.preprocessing import StandardScaler"
      ]
    },
    {
      "cell_type": "code",
      "source": [
        "housing_data = pd.read_csv(\"housing.data\", delim_whitespace=True, header=None)"
      ],
      "metadata": {
        "id": "NFATv-XmGyXQ"
      },
      "execution_count": 4,
      "outputs": []
    },
    {
      "cell_type": "markdown",
      "source": [
        "Chicking the initial load"
      ],
      "metadata": {
        "id": "9xO07ZpZYZuI"
      }
    },
    {
      "cell_type": "code",
      "source": [
        "housing_data.head()"
      ],
      "metadata": {
        "id": "CyNqWQOaIHfI"
      },
      "execution_count": null,
      "outputs": []
    },
    {
      "cell_type": "markdown",
      "source": [
        "Testing for null values"
      ],
      "metadata": {
        "id": "MLNEdocpYdGJ"
      }
    },
    {
      "cell_type": "code",
      "source": [
        "housing_data.isnull().sum()"
      ],
      "metadata": {
        "id": "wOU0jz7YL4dc"
      },
      "execution_count": null,
      "outputs": []
    },
    {
      "cell_type": "markdown",
      "source": [
        "Using train_test_split method from sklearn to easily split train and test dataset.\n",
        "\n",
        "The training is meant to predict the MEDV of owner occupied houses with index of 13."
      ],
      "metadata": {
        "id": "0XxysY-9YOg3"
      }
    },
    {
      "cell_type": "code",
      "source": [
        "housing_features = housing_data.copy()\n",
        "housing_target = housing_features.pop(13)\n",
        "Xtrain, Xtest, Ytrain, Ytest = train_test_split(housing_features, housing_target, test_size=0.2)\n",
        "Xtrain, Xval, Ytrain, Yval = train_test_split(Xtrain, Ytrain, test_size=0.2)"
      ],
      "metadata": {
        "id": "LIr8mqjDVg_5"
      },
      "execution_count": 8,
      "outputs": []
    },
    {
      "cell_type": "code",
      "source": [
        "scaler = StandardScaler()\n",
        "Xtrain = scaler.fit_transform(Xtrain)\n",
        "Xtest = scaler.transform(Xtest)\n",
        "Xval = scaler.transform(Xval)"
      ],
      "metadata": {
        "id": "J7XWqNRXgvCB"
      },
      "execution_count": null,
      "outputs": []
    },
    {
      "cell_type": "code",
      "source": [
        "model = Sequential([Dense(30, activation='relu', input_shape= Xtrain.shape[1:]), Dense(1)])"
      ],
      "metadata": {
        "id": "-YoqT4bGMG2G"
      },
      "execution_count": 9,
      "outputs": []
    },
    {
      "cell_type": "code",
      "source": [
        "model.summary()"
      ],
      "metadata": {
        "id": "xRI_BDUykLsL"
      },
      "execution_count": null,
      "outputs": []
    },
    {
      "cell_type": "code",
      "source": [
        "model.compile(loss='mean_squared_error', optimizer='adam')"
      ],
      "metadata": {
        "id": "CPSaYS5GkR2P"
      },
      "execution_count": 14,
      "outputs": []
    },
    {
      "cell_type": "code",
      "source": [
        "history = model.fit(Xtrain, Ytrain, validation_data=(Xval, Yval), epochs=100)"
      ],
      "metadata": {
        "colab": {
          "base_uri": "https://localhost:8080/"
        },
        "id": "C--FHU71kYcN",
        "outputId": "896d26ee-be69-4b5d-9550-d11b8233862f"
      },
      "execution_count": 23,
      "outputs": [
        {
          "output_type": "stream",
          "name": "stdout",
          "text": [
            "Epoch 1/100\n",
            "11/11 [==============================] - 0s 20ms/step - loss: 31.4366 - val_loss: 44.5907\n",
            "Epoch 2/100\n",
            "11/11 [==============================] - 0s 17ms/step - loss: 28.9200 - val_loss: 49.5747\n",
            "Epoch 3/100\n",
            "11/11 [==============================] - 0s 9ms/step - loss: 31.6353 - val_loss: 46.8625\n",
            "Epoch 4/100\n",
            "11/11 [==============================] - 0s 8ms/step - loss: 29.8757 - val_loss: 50.5475\n",
            "Epoch 5/100\n",
            "11/11 [==============================] - 0s 12ms/step - loss: 30.3132 - val_loss: 44.2486\n",
            "Epoch 6/100\n",
            "11/11 [==============================] - 0s 22ms/step - loss: 28.4591 - val_loss: 43.6124\n",
            "Epoch 7/100\n",
            "11/11 [==============================] - 0s 17ms/step - loss: 28.7331 - val_loss: 43.4397\n",
            "Epoch 8/100\n",
            "11/11 [==============================] - 0s 16ms/step - loss: 30.2985 - val_loss: 43.4057\n",
            "Epoch 9/100\n",
            "11/11 [==============================] - 0s 15ms/step - loss: 28.3969 - val_loss: 43.5601\n",
            "Epoch 10/100\n",
            "11/11 [==============================] - 0s 10ms/step - loss: 29.2303 - val_loss: 43.9038\n",
            "Epoch 11/100\n",
            "11/11 [==============================] - 0s 16ms/step - loss: 30.0514 - val_loss: 51.1163\n",
            "Epoch 12/100\n",
            "11/11 [==============================] - 0s 15ms/step - loss: 29.7317 - val_loss: 46.2646\n",
            "Epoch 13/100\n",
            "11/11 [==============================] - 0s 14ms/step - loss: 28.5599 - val_loss: 51.6994\n",
            "Epoch 14/100\n",
            "11/11 [==============================] - 0s 14ms/step - loss: 33.9172 - val_loss: 44.4990\n",
            "Epoch 15/100\n",
            "11/11 [==============================] - 0s 17ms/step - loss: 29.7575 - val_loss: 46.1076\n",
            "Epoch 16/100\n",
            "11/11 [==============================] - 0s 15ms/step - loss: 29.2172 - val_loss: 43.2413\n",
            "Epoch 17/100\n",
            "11/11 [==============================] - 0s 9ms/step - loss: 28.4407 - val_loss: 43.3850\n",
            "Epoch 18/100\n",
            "11/11 [==============================] - 0s 15ms/step - loss: 28.4976 - val_loss: 43.7277\n",
            "Epoch 19/100\n",
            "11/11 [==============================] - 0s 10ms/step - loss: 28.1732 - val_loss: 44.1450\n",
            "Epoch 20/100\n",
            "11/11 [==============================] - 0s 5ms/step - loss: 32.4168 - val_loss: 42.7782\n",
            "Epoch 21/100\n",
            "11/11 [==============================] - 0s 4ms/step - loss: 27.9162 - val_loss: 43.6877\n",
            "Epoch 22/100\n",
            "11/11 [==============================] - 0s 5ms/step - loss: 28.2532 - val_loss: 43.5503\n",
            "Epoch 23/100\n",
            "11/11 [==============================] - 0s 6ms/step - loss: 29.5420 - val_loss: 45.2705\n",
            "Epoch 24/100\n",
            "11/11 [==============================] - 0s 7ms/step - loss: 29.0481 - val_loss: 47.8518\n",
            "Epoch 25/100\n",
            "11/11 [==============================] - 0s 6ms/step - loss: 35.3202 - val_loss: 45.4184\n",
            "Epoch 26/100\n",
            "11/11 [==============================] - 0s 5ms/step - loss: 29.5261 - val_loss: 48.2655\n",
            "Epoch 27/100\n",
            "11/11 [==============================] - 0s 5ms/step - loss: 29.9084 - val_loss: 43.6062\n",
            "Epoch 28/100\n",
            "11/11 [==============================] - 0s 6ms/step - loss: 31.0437 - val_loss: 44.0675\n",
            "Epoch 29/100\n",
            "11/11 [==============================] - 0s 7ms/step - loss: 28.7021 - val_loss: 45.1012\n",
            "Epoch 30/100\n",
            "11/11 [==============================] - 0s 5ms/step - loss: 28.1036 - val_loss: 43.5433\n",
            "Epoch 31/100\n",
            "11/11 [==============================] - 0s 5ms/step - loss: 29.5954 - val_loss: 47.0813\n",
            "Epoch 32/100\n",
            "11/11 [==============================] - 0s 5ms/step - loss: 29.7061 - val_loss: 42.1648\n",
            "Epoch 33/100\n",
            "11/11 [==============================] - 0s 5ms/step - loss: 28.2831 - val_loss: 43.2131\n",
            "Epoch 34/100\n",
            "11/11 [==============================] - 0s 6ms/step - loss: 27.5163 - val_loss: 42.7315\n",
            "Epoch 35/100\n",
            "11/11 [==============================] - 0s 5ms/step - loss: 27.6910 - val_loss: 53.9301\n",
            "Epoch 36/100\n",
            "11/11 [==============================] - 0s 6ms/step - loss: 30.4134 - val_loss: 45.1111\n",
            "Epoch 37/100\n",
            "11/11 [==============================] - 0s 5ms/step - loss: 31.1882 - val_loss: 47.0700\n",
            "Epoch 38/100\n",
            "11/11 [==============================] - 0s 5ms/step - loss: 36.3718 - val_loss: 42.6295\n",
            "Epoch 39/100\n",
            "11/11 [==============================] - 0s 6ms/step - loss: 29.8714 - val_loss: 42.1005\n",
            "Epoch 40/100\n",
            "11/11 [==============================] - 0s 4ms/step - loss: 26.8001 - val_loss: 41.8153\n",
            "Epoch 41/100\n",
            "11/11 [==============================] - 0s 7ms/step - loss: 28.0219 - val_loss: 41.2858\n",
            "Epoch 42/100\n",
            "11/11 [==============================] - 0s 6ms/step - loss: 30.4607 - val_loss: 44.3825\n",
            "Epoch 43/100\n",
            "11/11 [==============================] - 0s 5ms/step - loss: 28.4734 - val_loss: 42.7992\n",
            "Epoch 44/100\n",
            "11/11 [==============================] - 0s 6ms/step - loss: 27.2494 - val_loss: 47.5833\n",
            "Epoch 45/100\n",
            "11/11 [==============================] - 0s 7ms/step - loss: 33.3944 - val_loss: 51.0325\n",
            "Epoch 46/100\n",
            "11/11 [==============================] - 0s 6ms/step - loss: 29.3204 - val_loss: 47.9092\n",
            "Epoch 47/100\n",
            "11/11 [==============================] - 0s 4ms/step - loss: 31.0263 - val_loss: 42.4210\n",
            "Epoch 48/100\n",
            "11/11 [==============================] - 0s 4ms/step - loss: 26.9940 - val_loss: 41.8023\n",
            "Epoch 49/100\n",
            "11/11 [==============================] - 0s 6ms/step - loss: 27.5104 - val_loss: 46.9334\n",
            "Epoch 50/100\n",
            "11/11 [==============================] - 0s 5ms/step - loss: 28.2296 - val_loss: 41.4769\n",
            "Epoch 51/100\n",
            "11/11 [==============================] - 0s 4ms/step - loss: 27.1078 - val_loss: 41.5122\n",
            "Epoch 52/100\n",
            "11/11 [==============================] - 0s 4ms/step - loss: 30.0844 - val_loss: 41.7200\n",
            "Epoch 53/100\n",
            "11/11 [==============================] - 0s 6ms/step - loss: 28.3928 - val_loss: 43.1415\n",
            "Epoch 54/100\n",
            "11/11 [==============================] - 0s 4ms/step - loss: 27.5218 - val_loss: 41.9369\n",
            "Epoch 55/100\n",
            "11/11 [==============================] - 0s 6ms/step - loss: 30.2762 - val_loss: 43.1813\n",
            "Epoch 56/100\n",
            "11/11 [==============================] - 0s 5ms/step - loss: 33.2326 - val_loss: 44.8303\n",
            "Epoch 57/100\n",
            "11/11 [==============================] - 0s 4ms/step - loss: 27.7358 - val_loss: 67.1964\n",
            "Epoch 58/100\n",
            "11/11 [==============================] - 0s 4ms/step - loss: 34.5740 - val_loss: 41.2643\n",
            "Epoch 59/100\n",
            "11/11 [==============================] - 0s 5ms/step - loss: 30.2473 - val_loss: 49.7905\n",
            "Epoch 60/100\n",
            "11/11 [==============================] - 0s 6ms/step - loss: 31.0888 - val_loss: 40.8187\n",
            "Epoch 61/100\n",
            "11/11 [==============================] - 0s 5ms/step - loss: 26.8717 - val_loss: 40.7704\n",
            "Epoch 62/100\n",
            "11/11 [==============================] - 0s 5ms/step - loss: 27.0089 - val_loss: 42.7850\n",
            "Epoch 63/100\n",
            "11/11 [==============================] - 0s 6ms/step - loss: 28.7252 - val_loss: 42.2669\n",
            "Epoch 64/100\n",
            "11/11 [==============================] - 0s 4ms/step - loss: 33.5027 - val_loss: 42.3168\n",
            "Epoch 65/100\n",
            "11/11 [==============================] - 0s 4ms/step - loss: 36.6629 - val_loss: 40.8999\n",
            "Epoch 66/100\n",
            "11/11 [==============================] - 0s 5ms/step - loss: 29.5969 - val_loss: 42.7795\n",
            "Epoch 67/100\n",
            "11/11 [==============================] - 0s 4ms/step - loss: 28.7734 - val_loss: 55.7886\n",
            "Epoch 68/100\n",
            "11/11 [==============================] - 0s 5ms/step - loss: 36.8587 - val_loss: 42.1501\n",
            "Epoch 69/100\n",
            "11/11 [==============================] - 0s 7ms/step - loss: 27.2570 - val_loss: 41.6748\n",
            "Epoch 70/100\n",
            "11/11 [==============================] - 0s 5ms/step - loss: 26.8721 - val_loss: 41.5096\n",
            "Epoch 71/100\n",
            "11/11 [==============================] - 0s 5ms/step - loss: 27.3991 - val_loss: 53.3529\n",
            "Epoch 72/100\n",
            "11/11 [==============================] - 0s 7ms/step - loss: 30.3834 - val_loss: 48.3932\n",
            "Epoch 73/100\n",
            "11/11 [==============================] - 0s 6ms/step - loss: 29.5425 - val_loss: 42.2629\n",
            "Epoch 74/100\n",
            "11/11 [==============================] - 0s 6ms/step - loss: 26.9922 - val_loss: 50.9408\n",
            "Epoch 75/100\n",
            "11/11 [==============================] - 0s 5ms/step - loss: 27.7224 - val_loss: 40.3167\n",
            "Epoch 76/100\n",
            "11/11 [==============================] - 0s 7ms/step - loss: 26.7552 - val_loss: 41.0976\n",
            "Epoch 77/100\n",
            "11/11 [==============================] - 0s 7ms/step - loss: 26.6986 - val_loss: 45.0683\n",
            "Epoch 78/100\n",
            "11/11 [==============================] - 0s 7ms/step - loss: 28.7512 - val_loss: 42.6095\n",
            "Epoch 79/100\n",
            "11/11 [==============================] - 0s 5ms/step - loss: 28.8236 - val_loss: 40.3107\n",
            "Epoch 80/100\n",
            "11/11 [==============================] - 0s 7ms/step - loss: 26.4094 - val_loss: 40.5383\n",
            "Epoch 81/100\n",
            "11/11 [==============================] - 0s 5ms/step - loss: 26.0790 - val_loss: 42.1209\n",
            "Epoch 82/100\n",
            "11/11 [==============================] - 0s 6ms/step - loss: 29.7531 - val_loss: 39.8677\n",
            "Epoch 83/100\n",
            "11/11 [==============================] - 0s 6ms/step - loss: 26.1964 - val_loss: 44.3251\n",
            "Epoch 84/100\n",
            "11/11 [==============================] - 0s 7ms/step - loss: 26.3017 - val_loss: 43.9182\n",
            "Epoch 85/100\n",
            "11/11 [==============================] - 0s 6ms/step - loss: 28.2529 - val_loss: 38.8553\n",
            "Epoch 86/100\n",
            "11/11 [==============================] - 0s 5ms/step - loss: 26.1654 - val_loss: 39.3059\n",
            "Epoch 87/100\n",
            "11/11 [==============================] - 0s 5ms/step - loss: 27.2153 - val_loss: 38.8949\n",
            "Epoch 88/100\n",
            "11/11 [==============================] - 0s 5ms/step - loss: 33.2006 - val_loss: 38.8600\n",
            "Epoch 89/100\n",
            "11/11 [==============================] - 0s 5ms/step - loss: 34.2774 - val_loss: 39.5790\n",
            "Epoch 90/100\n",
            "11/11 [==============================] - 0s 5ms/step - loss: 26.2671 - val_loss: 46.9923\n",
            "Epoch 91/100\n",
            "11/11 [==============================] - 0s 5ms/step - loss: 27.3110 - val_loss: 40.4005\n",
            "Epoch 92/100\n",
            "11/11 [==============================] - 0s 7ms/step - loss: 26.7955 - val_loss: 41.4619\n",
            "Epoch 93/100\n",
            "11/11 [==============================] - 0s 6ms/step - loss: 26.0856 - val_loss: 38.2690\n",
            "Epoch 94/100\n",
            "11/11 [==============================] - 0s 6ms/step - loss: 27.2479 - val_loss: 37.9036\n",
            "Epoch 95/100\n",
            "11/11 [==============================] - 0s 6ms/step - loss: 25.5506 - val_loss: 40.5110\n",
            "Epoch 96/100\n",
            "11/11 [==============================] - 0s 7ms/step - loss: 28.4694 - val_loss: 41.8550\n",
            "Epoch 97/100\n",
            "11/11 [==============================] - 0s 6ms/step - loss: 30.8167 - val_loss: 40.1287\n",
            "Epoch 98/100\n",
            "11/11 [==============================] - 0s 5ms/step - loss: 30.0853 - val_loss: 41.2048\n",
            "Epoch 99/100\n",
            "11/11 [==============================] - 0s 6ms/step - loss: 25.6030 - val_loss: 38.7437\n",
            "Epoch 100/100\n",
            "11/11 [==============================] - 0s 6ms/step - loss: 27.3687 - val_loss: 40.1606\n"
          ]
        }
      ]
    },
    {
      "cell_type": "code",
      "source": [
        "model.save('Sequential.h5')"
      ],
      "metadata": {
        "id": "_x3JhuQJk0de"
      },
      "execution_count": 16,
      "outputs": []
    },
    {
      "cell_type": "markdown",
      "source": [
        "Evaluation of the model"
      ],
      "metadata": {
        "id": "57m7z5WYo7WT"
      }
    },
    {
      "cell_type": "code",
      "source": [
        "test_model = model.evaluate(Xtest, Ytest)\n",
        "test_model"
      ],
      "metadata": {
        "colab": {
          "base_uri": "https://localhost:8080/"
        },
        "id": "ZJfcH7l7k42Q",
        "outputId": "b0be026b-ea26-413f-8b6b-e2927563d464"
      },
      "execution_count": 24,
      "outputs": [
        {
          "output_type": "stream",
          "name": "stdout",
          "text": [
            "4/4 [==============================] - 0s 4ms/step - loss: 40.6099\n"
          ]
        },
        {
          "output_type": "execute_result",
          "data": {
            "text/plain": [
              "40.60994338989258"
            ]
          },
          "metadata": {},
          "execution_count": 24
        }
      ]
    },
    {
      "cell_type": "code",
      "source": [
        "pd.DataFrame(history.history).plot()\n",
        "plt.grid(True)\n",
        "plt.show()"
      ],
      "metadata": {
        "colab": {
          "base_uri": "https://localhost:8080/",
          "height": 265
        },
        "id": "5m7htNcHlEDu",
        "outputId": "0de96c21-2363-4214-9bc9-79c082765c2c"
      },
      "execution_count": 22,
      "outputs": [
        {
          "output_type": "display_data",
          "data": {
            "image/png": "[encoded data removed]",
            "text/plain": [
              "<Figure size 432x288 with 1 Axes>"
            ]
          },
          "metadata": {
            "needs_background": "light"
          }
        }
      ]
    }
  ]
}